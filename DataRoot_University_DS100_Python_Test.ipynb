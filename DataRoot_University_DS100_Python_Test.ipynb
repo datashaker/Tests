{
 "cells": [
  {
   "cell_type": "markdown",
   "metadata": {},
   "source": [
    "# DataRoot University DS100 Test \n",
    "На проходження тесту виділяється 71 хвилина."
   ]
  },
  {
   "cell_type": "markdown",
   "metadata": {},
   "source": [
    "## Python"
   ]
  },
  {
   "cell_type": "markdown",
   "metadata": {},
   "source": [
    "### 1. Маючи позитивне дійсне число a і невід'ємне ціле число n. Реалізувати функцію ```a^n``` без використання циклів, ** оператора або вбудованої функції math.pow (). Замість цього використовуйте рекурсію.\n",
    "\n",
    "```\n",
    "```\n",
    "```\n",
    "```\n",
    "```\n",
    "```\n",
    "```\n",
    "Максимальна оцінка: 2 бали\n",
    "Рекомендований час: 5хв\n",
    "```"
   ]
  },
  {
   "cell_type": "code",
   "execution_count": 1,
   "metadata": {
    "collapsed": true
   },
   "outputs": [],
   "source": [
    "def step(a,n):\n",
    "    if n == 0:\n",
    "        return 1\n",
    "    else:\n",
    "        return a * step(a,n-1)"
   ]
  },
  {
   "cell_type": "code",
   "execution_count": 2,
   "metadata": {},
   "outputs": [
    {
     "data": {
      "text/plain": [
       "27"
      ]
     },
     "execution_count": 2,
     "metadata": {},
     "output_type": "execute_result"
    }
   ],
   "source": [
    "step(3,3)"
   ]
  },
  {
   "cell_type": "markdown",
   "metadata": {},
   "source": [
    "### 2. Реалізуйте клас Torus, який створюється за двома радіусами r, R, R > r. Містить два методи, які повертають відповідно: площу поверхні та об'єм.\n",
    "\n",
    "```\n",
    "```\n",
    "```\n",
    "```\n",
    "```\n",
    "```\n",
    "```\n",
    "Максимальна оцінка: 2 бали\n",
    "Рекомендований час: 5хв\n",
    "```"
   ]
  },
  {
   "cell_type": "code",
   "execution_count": 3,
   "metadata": {
    "collapsed": true
   },
   "outputs": [],
   "source": [
    "class Torus:\n",
    "    def __init__(self,r,R):\n",
    "        self.r = r\n",
    "        self.R = R\n",
    "    def S(self):\n",
    "        return 4*np.pi**2*self.R*self.r\n",
    "    def V(self):\n",
    "        return 2*np.pi**2*self.R*self.r**2"
   ]
  },
  {
   "cell_type": "markdown",
   "metadata": {},
   "source": [
    "### 3.  Продемонструйте реалізацію декоратора з параметром.\n",
    "\n",
    "```\n",
    "```\n",
    "```\n",
    "```\n",
    "```\n",
    "```\n",
    "```\n",
    "Максимальна оцінка: 2 бали\n",
    "Рекомендований час: 5хв\n",
    "```"
   ]
  },
  {
   "cell_type": "code",
   "execution_count": 4,
   "metadata": {},
   "outputs": [
    {
     "data": {
      "text/plain": [
       "<function __main__.greeting.<locals>.greeting_decorator.<locals>.function_wrapper>"
      ]
     },
     "execution_count": 4,
     "metadata": {},
     "output_type": "execute_result"
    }
   ],
   "source": [
    "def greeting(expr):\n",
    "    def greeting_decorator(func):\n",
    "        def function_wrapper(x):\n",
    "            print(expr + \", \" + func.__name__ + \" returns:\")\n",
    "            func(x)\n",
    "        return function_wrapper\n",
    "    return greeting_decorator\n",
    "\n",
    "@greeting\n",
    "def foo(x):\n",
    "    print(42)\n",
    "foo(\"Hi\")"
   ]
  },
  {
   "cell_type": "markdown",
   "metadata": {
    "collapsed": true
   },
   "source": [
    "## Libraries: numpy, scipy, pandas, matplotlib"
   ]
  },
  {
   "cell_type": "markdown",
   "metadata": {},
   "source": [
    "### Numpy"
   ]
  },
  {
   "cell_type": "markdown",
   "metadata": {
    "collapsed": true
   },
   "source": [
    "### 4. Cкажімо, є два випадкові масиви A та B. Перевірте, чи вони однакові.\n",
    "```\n",
    "```\n",
    "```\n",
    "```\n",
    "```\n",
    "```\n",
    "```\n",
    "Максимальна оцінка: 2 бали\n",
    "Рекомендований час: 3хв\n",
    "```"
   ]
  },
  {
   "cell_type": "code",
   "execution_count": 5,
   "metadata": {},
   "outputs": [
    {
     "name": "stdout",
     "output_type": "stream",
     "text": [
      "Different\n"
     ]
    }
   ],
   "source": [
    "import numpy as np\n",
    "a = np.random.random(20)\n",
    "b = np.random.random(20)\n",
    "if all(a == b):\n",
    "    print('Same')\n",
    "else:\n",
    "    print('Different')"
   ]
  },
  {
   "cell_type": "markdown",
   "metadata": {},
   "source": [
    "### 5. Поверніть з 2-вимірного масиву лінійно незалежні рядки.\n",
    "```\n",
    "```\n",
    "```\n",
    "```\n",
    "```\n",
    "```\n",
    "```\n",
    "Максимальна оцінка: 3 бали\n",
    "Рекомендований час: 6хв\n",
    "```"
   ]
  },
  {
   "cell_type": "code",
   "execution_count": 6,
   "metadata": {
    "collapsed": true
   },
   "outputs": [],
   "source": [
    "def lnz(matrix):\n",
    "    res = []\n",
    "    A = np.linalg.qr(matrix)\n",
    "    A = A[1]\n",
    "    for i in range (0,m):\n",
    "        if any(A[i,:]) != 0:\n",
    "            res.append(matrix[i,:])\n",
    "    print(res)"
   ]
  },
  {
   "cell_type": "code",
   "execution_count": 7,
   "metadata": {},
   "outputs": [
    {
     "name": "stdout",
     "output_type": "stream",
     "text": [
      "[array([ 0.94794041,  0.95662233,  0.59233379,  0.90670052,  0.61728312]), array([ 0.61915368,  0.46871911,  0.39887219,  0.74102316,  0.81602148]), array([ 0.36600095,  0.15086499,  0.46506942,  0.55346827,  0.02023805]), array([ 0.28750175,  0.96938559,  0.22486767,  0.12147834,  0.68915121]), array([ 0.7141783 ,  0.40512339,  0.43331164,  0.80205964,  0.14778303])]\n"
     ]
    }
   ],
   "source": [
    "n = 5\n",
    "m = 5 \n",
    "A = np.random.random((m,n))\n",
    "lnz(A)\n"
   ]
  },
  {
   "cell_type": "markdown",
   "metadata": {},
   "source": [
    "### 6. Знайдіть найближче значення до заданого значення в масиві.\n",
    "```\n",
    "```\n",
    "```\n",
    "```\n",
    "```\n",
    "```\n",
    "```\n",
    "Максимальна оцінка: 2 бали\n",
    "Рекомендований час: 3хв\n",
    "```"
   ]
  },
  {
   "cell_type": "code",
   "execution_count": 8,
   "metadata": {},
   "outputs": [
    {
     "name": "stdout",
     "output_type": "stream",
     "text": [
      "[ 0.85264496  0.79756142  0.22899134  0.0331996   0.20966202  0.19329135\n",
      "  0.10488319  0.8669093   0.57350331  0.9068835 ]\n",
      "0.104883194646\n"
     ]
    }
   ],
   "source": [
    "dist = 0.1\n",
    "distances = []\n",
    "array = np.random.random(10)\n",
    "print(array)\n",
    "for i in array:\n",
    "    distances.append(np.absolute(i-dist))\n",
    "print(array[np.argmin(distances)])\n",
    "        \n",
    "        "
   ]
  },
  {
   "cell_type": "markdown",
   "metadata": {},
   "source": [
    "### Pandas"
   ]
  },
  {
   "cell_type": "markdown",
   "metadata": {},
   "source": [
    "### 7. Скажімо, є DataFrame df з 10 стовпчиком дійсних чисел. Наприклад:"
   ]
  },
  {
   "cell_type": "code",
   "execution_count": 9,
   "metadata": {},
   "outputs": [
    {
     "data": {
      "text/html": [
       "<div>\n",
       "<style>\n",
       "    .dataframe thead tr:only-child th {\n",
       "        text-align: right;\n",
       "    }\n",
       "\n",
       "    .dataframe thead th {\n",
       "        text-align: left;\n",
       "    }\n",
       "\n",
       "    .dataframe tbody tr th {\n",
       "        vertical-align: top;\n",
       "    }\n",
       "</style>\n",
       "<table border=\"1\" class=\"dataframe\">\n",
       "  <thead>\n",
       "    <tr style=\"text-align: right;\">\n",
       "      <th></th>\n",
       "      <th>a</th>\n",
       "      <th>b</th>\n",
       "      <th>c</th>\n",
       "      <th>d</th>\n",
       "      <th>e</th>\n",
       "      <th>f</th>\n",
       "      <th>g</th>\n",
       "      <th>h</th>\n",
       "      <th>i</th>\n",
       "      <th>j</th>\n",
       "    </tr>\n",
       "  </thead>\n",
       "  <tbody>\n",
       "    <tr>\n",
       "      <th>0</th>\n",
       "      <td>0.190968</td>\n",
       "      <td>0.129840</td>\n",
       "      <td>0.694004</td>\n",
       "      <td>0.994352</td>\n",
       "      <td>0.122234</td>\n",
       "      <td>0.056544</td>\n",
       "      <td>0.479320</td>\n",
       "      <td>0.411918</td>\n",
       "      <td>0.146669</td>\n",
       "      <td>0.332315</td>\n",
       "    </tr>\n",
       "    <tr>\n",
       "      <th>1</th>\n",
       "      <td>0.021489</td>\n",
       "      <td>0.344216</td>\n",
       "      <td>0.958174</td>\n",
       "      <td>0.305993</td>\n",
       "      <td>0.588068</td>\n",
       "      <td>0.212934</td>\n",
       "      <td>0.514645</td>\n",
       "      <td>0.239828</td>\n",
       "      <td>0.885762</td>\n",
       "      <td>0.719400</td>\n",
       "    </tr>\n",
       "    <tr>\n",
       "      <th>2</th>\n",
       "      <td>0.980857</td>\n",
       "      <td>0.034249</td>\n",
       "      <td>0.269776</td>\n",
       "      <td>0.032714</td>\n",
       "      <td>0.862351</td>\n",
       "      <td>0.390658</td>\n",
       "      <td>0.316712</td>\n",
       "      <td>0.873193</td>\n",
       "      <td>0.550237</td>\n",
       "      <td>0.970731</td>\n",
       "    </tr>\n",
       "    <tr>\n",
       "      <th>3</th>\n",
       "      <td>0.658344</td>\n",
       "      <td>0.878433</td>\n",
       "      <td>0.954389</td>\n",
       "      <td>0.470581</td>\n",
       "      <td>0.025160</td>\n",
       "      <td>0.129077</td>\n",
       "      <td>0.080181</td>\n",
       "      <td>0.376026</td>\n",
       "      <td>0.561601</td>\n",
       "      <td>0.898836</td>\n",
       "    </tr>\n",
       "    <tr>\n",
       "      <th>4</th>\n",
       "      <td>0.431258</td>\n",
       "      <td>0.384885</td>\n",
       "      <td>0.606306</td>\n",
       "      <td>0.692999</td>\n",
       "      <td>0.326361</td>\n",
       "      <td>0.382657</td>\n",
       "      <td>0.981214</td>\n",
       "      <td>0.063553</td>\n",
       "      <td>0.327348</td>\n",
       "      <td>0.456455</td>\n",
       "    </tr>\n",
       "  </tbody>\n",
       "</table>\n",
       "</div>"
      ],
      "text/plain": [
       "          a         b         c         d         e         f         g  \\\n",
       "0  0.190968  0.129840  0.694004  0.994352  0.122234  0.056544  0.479320   \n",
       "1  0.021489  0.344216  0.958174  0.305993  0.588068  0.212934  0.514645   \n",
       "2  0.980857  0.034249  0.269776  0.032714  0.862351  0.390658  0.316712   \n",
       "3  0.658344  0.878433  0.954389  0.470581  0.025160  0.129077  0.080181   \n",
       "4  0.431258  0.384885  0.606306  0.692999  0.326361  0.382657  0.981214   \n",
       "\n",
       "          h         i         j  \n",
       "0  0.411918  0.146669  0.332315  \n",
       "1  0.239828  0.885762  0.719400  \n",
       "2  0.873193  0.550237  0.970731  \n",
       "3  0.376026  0.561601  0.898836  \n",
       "4  0.063553  0.327348  0.456455  "
      ]
     },
     "execution_count": 9,
     "metadata": {},
     "output_type": "execute_result"
    }
   ],
   "source": [
    "import numpy as np\n",
    "import pandas as pd\n",
    "df = pd.DataFrame(np.random.random(size=(5, 10)), columns=list('abcdefghij'))\n",
    "df"
   ]
  },
  {
   "cell_type": "markdown",
   "metadata": {},
   "source": [
    "Яка колонка чисел має найменшу суму?\n",
    "```\n",
    "```\n",
    "```\n",
    "```\n",
    "```\n",
    "```\n",
    "```\n",
    "Максимальна оцінка: 2 бали\n",
    "Рекомендований час: 3хв\n",
    "```"
   ]
  },
  {
   "cell_type": "code",
   "execution_count": 11,
   "metadata": {},
   "outputs": [
    {
     "name": "stdout",
     "output_type": "stream",
     "text": [
      "9\n"
     ]
    }
   ],
   "source": [
    "columns=list('abcdefghij')\n",
    "top_sum = 0\n",
    "for x in range(0,len(columns)):\n",
    "    col_sum = df.iloc[:,x].sum()\n",
    "    if col_sum > top_sum:\n",
    "        top_sum = col_sum\n",
    "print(x)"
   ]
  },
  {
   "cell_type": "markdown",
   "metadata": {},
   "source": [
    "### 8. Скажімо, є DataFrame з двома стовпчиками цілих чисел 'A' та 'B'. Значення в 'A' знаходяться між 1 та 100 включно. Для кожної групи з десяти послідовних чисел в 'A' (тобто (0, 10], (10, 20], ...), розрахуйте суму відповідних значень в 'B'.\n",
    "```\n",
    "```\n",
    "```\n",
    "```\n",
    "```\n",
    "```\n",
    "```\n",
    "Максимальна оцінка: 3 бали\n",
    "Рекомендований час: 5хв\n",
    "```"
   ]
  },
  {
   "cell_type": "code",
   "execution_count": 12,
   "metadata": {},
   "outputs": [
    {
     "data": {
      "text/html": [
       "<div>\n",
       "<style>\n",
       "    .dataframe thead tr:only-child th {\n",
       "        text-align: right;\n",
       "    }\n",
       "\n",
       "    .dataframe thead th {\n",
       "        text-align: left;\n",
       "    }\n",
       "\n",
       "    .dataframe tbody tr th {\n",
       "        vertical-align: top;\n",
       "    }\n",
       "</style>\n",
       "<table border=\"1\" class=\"dataframe\">\n",
       "  <thead>\n",
       "    <tr style=\"text-align: right;\">\n",
       "      <th></th>\n",
       "      <th>C1</th>\n",
       "      <th>C2</th>\n",
       "    </tr>\n",
       "  </thead>\n",
       "  <tbody>\n",
       "    <tr>\n",
       "      <th>0</th>\n",
       "      <td>25</td>\n",
       "      <td>17</td>\n",
       "    </tr>\n",
       "    <tr>\n",
       "      <th>1</th>\n",
       "      <td>33</td>\n",
       "      <td>33</td>\n",
       "    </tr>\n",
       "    <tr>\n",
       "      <th>2</th>\n",
       "      <td>96</td>\n",
       "      <td>6</td>\n",
       "    </tr>\n",
       "    <tr>\n",
       "      <th>3</th>\n",
       "      <td>18</td>\n",
       "      <td>33</td>\n",
       "    </tr>\n",
       "    <tr>\n",
       "      <th>4</th>\n",
       "      <td>57</td>\n",
       "      <td>74</td>\n",
       "    </tr>\n",
       "    <tr>\n",
       "      <th>5</th>\n",
       "      <td>49</td>\n",
       "      <td>14</td>\n",
       "    </tr>\n",
       "    <tr>\n",
       "      <th>6</th>\n",
       "      <td>31</td>\n",
       "      <td>60</td>\n",
       "    </tr>\n",
       "    <tr>\n",
       "      <th>7</th>\n",
       "      <td>3</td>\n",
       "      <td>6</td>\n",
       "    </tr>\n",
       "    <tr>\n",
       "      <th>8</th>\n",
       "      <td>63</td>\n",
       "      <td>53</td>\n",
       "    </tr>\n",
       "    <tr>\n",
       "      <th>9</th>\n",
       "      <td>69</td>\n",
       "      <td>68</td>\n",
       "    </tr>\n",
       "    <tr>\n",
       "      <th>10</th>\n",
       "      <td>84</td>\n",
       "      <td>94</td>\n",
       "    </tr>\n",
       "    <tr>\n",
       "      <th>11</th>\n",
       "      <td>4</td>\n",
       "      <td>48</td>\n",
       "    </tr>\n",
       "    <tr>\n",
       "      <th>12</th>\n",
       "      <td>74</td>\n",
       "      <td>43</td>\n",
       "    </tr>\n",
       "    <tr>\n",
       "      <th>13</th>\n",
       "      <td>2</td>\n",
       "      <td>22</td>\n",
       "    </tr>\n",
       "    <tr>\n",
       "      <th>14</th>\n",
       "      <td>74</td>\n",
       "      <td>3</td>\n",
       "    </tr>\n",
       "    <tr>\n",
       "      <th>15</th>\n",
       "      <td>45</td>\n",
       "      <td>17</td>\n",
       "    </tr>\n",
       "    <tr>\n",
       "      <th>16</th>\n",
       "      <td>99</td>\n",
       "      <td>16</td>\n",
       "    </tr>\n",
       "    <tr>\n",
       "      <th>17</th>\n",
       "      <td>36</td>\n",
       "      <td>7</td>\n",
       "    </tr>\n",
       "    <tr>\n",
       "      <th>18</th>\n",
       "      <td>54</td>\n",
       "      <td>65</td>\n",
       "    </tr>\n",
       "    <tr>\n",
       "      <th>19</th>\n",
       "      <td>66</td>\n",
       "      <td>42</td>\n",
       "    </tr>\n",
       "    <tr>\n",
       "      <th>20</th>\n",
       "      <td>85</td>\n",
       "      <td>40</td>\n",
       "    </tr>\n",
       "    <tr>\n",
       "      <th>21</th>\n",
       "      <td>17</td>\n",
       "      <td>18</td>\n",
       "    </tr>\n",
       "    <tr>\n",
       "      <th>22</th>\n",
       "      <td>61</td>\n",
       "      <td>72</td>\n",
       "    </tr>\n",
       "    <tr>\n",
       "      <th>23</th>\n",
       "      <td>7</td>\n",
       "      <td>79</td>\n",
       "    </tr>\n",
       "    <tr>\n",
       "      <th>24</th>\n",
       "      <td>14</td>\n",
       "      <td>85</td>\n",
       "    </tr>\n",
       "    <tr>\n",
       "      <th>25</th>\n",
       "      <td>8</td>\n",
       "      <td>89</td>\n",
       "    </tr>\n",
       "    <tr>\n",
       "      <th>26</th>\n",
       "      <td>92</td>\n",
       "      <td>8</td>\n",
       "    </tr>\n",
       "    <tr>\n",
       "      <th>27</th>\n",
       "      <td>48</td>\n",
       "      <td>91</td>\n",
       "    </tr>\n",
       "    <tr>\n",
       "      <th>28</th>\n",
       "      <td>30</td>\n",
       "      <td>1</td>\n",
       "    </tr>\n",
       "    <tr>\n",
       "      <th>29</th>\n",
       "      <td>39</td>\n",
       "      <td>39</td>\n",
       "    </tr>\n",
       "    <tr>\n",
       "      <th>30</th>\n",
       "      <td>8</td>\n",
       "      <td>3</td>\n",
       "    </tr>\n",
       "    <tr>\n",
       "      <th>31</th>\n",
       "      <td>63</td>\n",
       "      <td>25</td>\n",
       "    </tr>\n",
       "    <tr>\n",
       "      <th>32</th>\n",
       "      <td>68</td>\n",
       "      <td>7</td>\n",
       "    </tr>\n",
       "    <tr>\n",
       "      <th>33</th>\n",
       "      <td>19</td>\n",
       "      <td>36</td>\n",
       "    </tr>\n",
       "    <tr>\n",
       "      <th>34</th>\n",
       "      <td>65</td>\n",
       "      <td>73</td>\n",
       "    </tr>\n",
       "    <tr>\n",
       "      <th>35</th>\n",
       "      <td>9</td>\n",
       "      <td>89</td>\n",
       "    </tr>\n",
       "    <tr>\n",
       "      <th>36</th>\n",
       "      <td>32</td>\n",
       "      <td>59</td>\n",
       "    </tr>\n",
       "    <tr>\n",
       "      <th>37</th>\n",
       "      <td>77</td>\n",
       "      <td>65</td>\n",
       "    </tr>\n",
       "    <tr>\n",
       "      <th>38</th>\n",
       "      <td>56</td>\n",
       "      <td>37</td>\n",
       "    </tr>\n",
       "    <tr>\n",
       "      <th>39</th>\n",
       "      <td>74</td>\n",
       "      <td>23</td>\n",
       "    </tr>\n",
       "    <tr>\n",
       "      <th>40</th>\n",
       "      <td>18</td>\n",
       "      <td>81</td>\n",
       "    </tr>\n",
       "    <tr>\n",
       "      <th>41</th>\n",
       "      <td>38</td>\n",
       "      <td>30</td>\n",
       "    </tr>\n",
       "    <tr>\n",
       "      <th>42</th>\n",
       "      <td>19</td>\n",
       "      <td>25</td>\n",
       "    </tr>\n",
       "    <tr>\n",
       "      <th>43</th>\n",
       "      <td>54</td>\n",
       "      <td>68</td>\n",
       "    </tr>\n",
       "    <tr>\n",
       "      <th>44</th>\n",
       "      <td>14</td>\n",
       "      <td>43</td>\n",
       "    </tr>\n",
       "    <tr>\n",
       "      <th>45</th>\n",
       "      <td>42</td>\n",
       "      <td>73</td>\n",
       "    </tr>\n",
       "    <tr>\n",
       "      <th>46</th>\n",
       "      <td>83</td>\n",
       "      <td>12</td>\n",
       "    </tr>\n",
       "    <tr>\n",
       "      <th>47</th>\n",
       "      <td>2</td>\n",
       "      <td>65</td>\n",
       "    </tr>\n",
       "    <tr>\n",
       "      <th>48</th>\n",
       "      <td>60</td>\n",
       "      <td>96</td>\n",
       "    </tr>\n",
       "    <tr>\n",
       "      <th>49</th>\n",
       "      <td>75</td>\n",
       "      <td>8</td>\n",
       "    </tr>\n",
       "  </tbody>\n",
       "</table>\n",
       "</div>"
      ],
      "text/plain": [
       "    C1  C2\n",
       "0   25  17\n",
       "1   33  33\n",
       "2   96   6\n",
       "3   18  33\n",
       "4   57  74\n",
       "5   49  14\n",
       "6   31  60\n",
       "7    3   6\n",
       "8   63  53\n",
       "9   69  68\n",
       "10  84  94\n",
       "11   4  48\n",
       "12  74  43\n",
       "13   2  22\n",
       "14  74   3\n",
       "15  45  17\n",
       "16  99  16\n",
       "17  36   7\n",
       "18  54  65\n",
       "19  66  42\n",
       "20  85  40\n",
       "21  17  18\n",
       "22  61  72\n",
       "23   7  79\n",
       "24  14  85\n",
       "25   8  89\n",
       "26  92   8\n",
       "27  48  91\n",
       "28  30   1\n",
       "29  39  39\n",
       "30   8   3\n",
       "31  63  25\n",
       "32  68   7\n",
       "33  19  36\n",
       "34  65  73\n",
       "35   9  89\n",
       "36  32  59\n",
       "37  77  65\n",
       "38  56  37\n",
       "39  74  23\n",
       "40  18  81\n",
       "41  38  30\n",
       "42  19  25\n",
       "43  54  68\n",
       "44  14  43\n",
       "45  42  73\n",
       "46  83  12\n",
       "47   2  65\n",
       "48  60  96\n",
       "49  75   8"
      ]
     },
     "execution_count": 12,
     "metadata": {},
     "output_type": "execute_result"
    }
   ],
   "source": [
    "pd.DataFrame(np.random.randint(0,100,size=(50, 2)), columns=['C1','C2'])\n"
   ]
  },
  {
   "cell_type": "markdown",
   "metadata": {},
   "source": [
    "### 9. Є DataFrame df зі стовпцями: групи - \"grps\" та значення - \"vals\":"
   ]
  },
  {
   "cell_type": "code",
   "execution_count": 13,
   "metadata": {
    "collapsed": true
   },
   "outputs": [],
   "source": [
    "df = pd.DataFrame({'grps': list('aaabbcaabcccbbc'), \n",
    "                   'vals': [12,345,3,1,45,14,4,52,54,23,235,21,57,3,87]})"
   ]
  },
  {
   "cell_type": "markdown",
   "metadata": {
    "collapsed": true
   },
   "source": [
    "Для кожної групи знайдіть суму трьох найбільших значень.\n",
    "```\n",
    "```\n",
    "```\n",
    "```\n",
    "```\n",
    "```\n",
    "```\n",
    "Максимальна оцінка: 2 бали\n",
    "Рекомендований час: 3хв\n",
    "```"
   ]
  },
  {
   "cell_type": "code",
   "execution_count": 14,
   "metadata": {},
   "outputs": [
    {
     "name": "stdout",
     "output_type": "stream",
     "text": [
      "   grps  vals\n",
      "1     a   345\n",
      "7     a    52\n",
      "0     a    12\n",
      "6     a     4\n",
      "2     a     3\n",
      "12    b    57\n",
      "8     b    54\n",
      "4     b    45\n",
      "13    b     3\n",
      "3     b     1\n",
      "10    c   235\n",
      "14    c    87\n",
      "9     c    23\n",
      "11    c    21\n",
      "5     c    14\n",
      "{'a': [345, 52, 12], 'b': [57, 54, 45], 'c': [235, 87, 23]}\n"
     ]
    }
   ],
   "source": [
    "df.sort_values(by = ['grps','vals'],ascending=[True,False],inplace = True)\n",
    "print(df)\n",
    "grp_set = {}\n",
    "for indx, grp, val in df.itertuples():\n",
    "    if grp not in grp_set:\n",
    "        grp_set[grp] = [val]\n",
    "    else:\n",
    "        if len(grp_set[grp]) < 3:\n",
    "            grp_set[grp].append(val)\n",
    "print (grp_set)"
   ]
  },
  {
   "cell_type": "markdown",
   "metadata": {},
   "source": [
    "## Scipy & Matplotlib"
   ]
  },
  {
   "cell_type": "markdown",
   "metadata": {},
   "source": [
    "### 10. За допомогою scipy згенерувати та за допомогою matplotlib побудувати вибірки, правильно підписавши осі та назвавши графік з обраними відповідними параметрами(завдання на повторення):"
   ]
  },
  {
   "cell_type": "markdown",
   "metadata": {},
   "source": [
    "#### 10.1. Виібрку з нормально розподіленої випадкової величини:\n",
    "```\n",
    "```\n",
    "```\n",
    "```\n",
    "```\n",
    "```\n",
    "```\n",
    "Максимальна оцінка: 2 бали\n",
    "Рекомендований час: 2хв\n",
    "```"
   ]
  },
  {
   "cell_type": "code",
   "execution_count": 62,
   "metadata": {},
   "outputs": [
    {
     "data": {
      "text/plain": [
       "<matplotlib.text.Text at 0x1eb2aeac4e0>"
      ]
     },
     "execution_count": 62,
     "metadata": {},
     "output_type": "execute_result"
    },
    {
     "data": {
      "image/png": "[encoded data removed]",
      "text/plain": [
       "<matplotlib.figure.Figure at 0x1eb28ff6630>"
      ]
     },
     "metadata": {},
     "output_type": "display_data"
    }
   ],
   "source": [
    "import scipy.stats as sts\n",
    "import matplotlib.pyplot as plt\n",
    "import numpy as np\n",
    "%matplotlib inline\n",
    "norm_rv = sts.norm(loc = 2.5, scale = 0.5)\n",
    "gen_sample = norm_rv.rvs(100)\n",
    "cdf = norm_rv.cdf(gen_sample)\n",
    "plt.scatter(gen_sample,cdf)\n",
    "plt.title('loc = 2.5, scale = 0.5')\n",
    "plt.xlabel('$x$')\n",
    "plt.ylabel('$F(x)$')"
   ]
  },
  {
   "cell_type": "markdown",
   "metadata": {},
   "source": [
    "#### 10.2. Вибірку з розподілу Бернулі:\n",
    "```\n",
    "```\n",
    "```\n",
    "```\n",
    "```\n",
    "```\n",
    "```\n",
    "Максимальна оцінка: 2 бали\n",
    "Рекомендований час: 2хв\n",
    "```"
   ]
  },
  {
   "cell_type": "code",
   "execution_count": 63,
   "metadata": {},
   "outputs": [
    {
     "data": {
      "text/plain": [
       "<matplotlib.text.Text at 0x1eb2aeacb00>"
      ]
     },
     "execution_count": 63,
     "metadata": {},
     "output_type": "execute_result"
    },
    {
     "data": {
      "image/png": "[encoded data removed]",
      "text/plain": [
       "<matplotlib.figure.Figure at 0x1eb28fe34e0>"
      ]
     },
     "metadata": {},
     "output_type": "display_data"
    }
   ],
   "source": [
    "import scipy.stats as sts\n",
    "p = 0.6\n",
    "bern_rv = sts.bernoulli(0.6)\n",
    "samples = [0,1,2]\n",
    "prob = sts.bernoulli.cdf(samples,p)\n",
    "plt.xlim([-0.5,1.25])\n",
    "plt.step(samples,prob,where='post')\n",
    "plt.title('$p = 0.6$')\n",
    "plt.xlabel('$x$')\n",
    "plt.ylabel('$F(x)$')"
   ]
  },
  {
   "cell_type": "markdown",
   "metadata": {},
   "source": [
    "#### 10.3. Вибірку з біноміального розподілу:\n",
    "```\n",
    "```\n",
    "```\n",
    "```\n",
    "```\n",
    "```\n",
    "```\n",
    "Максимальна оцінка: 2 бали\n",
    "Рекомендований час: 2хв\n",
    "```"
   ]
  },
  {
   "cell_type": "code",
   "execution_count": 64,
   "metadata": {},
   "outputs": [
    {
     "data": {
      "text/plain": [
       "<matplotlib.text.Text at 0x1eb2b01f9e8>"
      ]
     },
     "execution_count": 64,
     "metadata": {},
     "output_type": "execute_result"
    },
    {
     "data": {
      "image/png": "[encoded data removed]",
      "text/plain": [
       "<matplotlib.figure.Figure at 0x1eb2ae96320>"
      ]
     },
     "metadata": {},
     "output_type": "display_data"
    }
   ],
   "source": [
    "binom_rv = sts.binom(40,0.7)\n",
    "x = np.linspace(0,40,41)\n",
    "y = binom_rv.cdf(x)\n",
    "plt.plot(x,y)\n",
    "plt.xlabel('$x$')\n",
    "plt.ylabel('$F(x)$')\n",
    "plt.title('$n = 40, p = 0,7$') "
   ]
  },
  {
   "cell_type": "markdown",
   "metadata": {
    "collapsed": true
   },
   "source": [
    "#### 10.4. Вибірку з розподілу Пуассона:\n",
    "```\n",
    "```\n",
    "```\n",
    "```\n",
    "```\n",
    "```\n",
    "```\n",
    "Максимальна оцінка: 2 бали\n",
    "Рекомендований час: 2хв\n",
    "```"
   ]
  },
  {
   "cell_type": "code",
   "execution_count": 65,
   "metadata": {},
   "outputs": [
    {
     "data": {
      "text/plain": [
       "<matplotlib.text.Text at 0x1eb2b0a8da0>"
      ]
     },
     "execution_count": 65,
     "metadata": {},
     "output_type": "execute_result"
    },
    {
     "data": {
      "image/png": "[encoded data removed]",
      "text/plain": [
       "<matplotlib.figure.Figure at 0x1eb2af5fda0>"
      ]
     },
     "metadata": {},
     "output_type": "display_data"
    }
   ],
   "source": [
    "pois_rv = sts.poisson(4)\n",
    "x = np.linspace(0,20,21)\n",
    "cdf = pois_rv.cdf(x)\n",
    "plt.plot(x,cdf)\n",
    "plt.xlabel('$x$')\n",
    "plt.ylabel('$F(x)$')\n",
    "plt.title('$\\lambda = 4$')"
   ]
  }
 ],
 "metadata": {
  "kernelspec": {
   "display_name": "Python 3",
   "language": "python",
   "name": "python3"
  },
  "language_info": {
   "codemirror_mode": {
    "name": "ipython",
    "version": 3
   },
   "file_extension": ".py",
   "mimetype": "text/x-python",
   "name": "python",
   "nbconvert_exporter": "python",
   "pygments_lexer": "ipython3",
   "version": "3.6.3"
  }
 },
 "nbformat": 4,
 "nbformat_minor": 2
}
